{
 "metadata": {
  "name": "features_vanessa"
 },
 "nbformat": 3,
 "nbformat_minor": 0,
 "worksheets": [
  {
   "cells": [
    {
     "cell_type": "raw",
     "metadata": {},
     "source": [
      "I explored using the part of speech tagger to generate lists of positive, neutral, and negative words from\n",
      "the training set.\n",
      "\n",
      "I implemeted and tested the following features:\n",
      "1. # of positive/negative/neutral adjectives and verbs\n",
      "2. Presense of positive/negative/neutral adjectives, verbs, and adverbs\n",
      "3. Presense of positive/negative/neutral adjectives and verbs using Porter Stemmer\n",
      "\n",
      "My team's agreed upon format for features was a dictionary with the feature name and the value."
     ]
    },
    {
     "cell_type": "raw",
     "metadata": {},
     "source": [
      "Loads in all of the parsed training set files into one list, randomizes it and assigns 90% to a training set and remaining to test set."
     ]
    },
    {
     "cell_type": "code",
     "collapsed": false,
     "input": [
      "import nltk\n",
      "import random\n",
      "import string\n",
      "from nltk.corpus import stopwords\n",
      "import pickle\n",
      "import os\n",
      "\n",
      "files = os.listdir(\"../Vanessa/\")\n",
      "all_files = [f for f in files if f[-2:] == '.p']\n",
      "all_reviews = []\n",
      "\n",
      "for f in all_files:\n",
      "    parsed_reviews = pickle.load( open( f, \"rb\" ) )\n",
      "    for i in parsed_reviews.items():\n",
      "        all_reviews.append(i)\n",
      "\n",
      "random.shuffle(all_reviews)\n",
      "training_reviews = all_reviews[:3215]\n",
      "test_reviews = all_reviews[3215:]\n",
      "#print len(test_reviews)"
     ],
     "language": "python",
     "metadata": {},
     "outputs": [
      {
       "output_type": "stream",
       "stream": "stdout",
       "text": [
        "357\n"
       ]
      }
     ],
     "prompt_number": 1
    },
    {
     "cell_type": "raw",
     "metadata": {},
     "source": [
      "Function that generates lists of adjectives, verbs, and adverbs from a list of reviews and splits them into neutral, positive, and negative categories.\n",
      "We called this a seed list.\n",
      "Originally I tried removing stop words, but this messed up nltk's part of speech tagger.\n",
      "I also lower case all of the words and remove punctuation. Note that this does create some non-words like \"isnt\",\"ive\""
     ]
    },
    {
     "cell_type": "code",
     "collapsed": false,
     "input": [
      "def get_seed_list(reviews):\n",
      "    neutral_adj = []\n",
      "    pos_adj = []\n",
      "    neg_adj = []\n",
      "    neutral_vrb = []\n",
      "    pos_vrb = []\n",
      "    neg_vrb = []\n",
      "    neutral_advrb = []\n",
      "    pos_advrb = []\n",
      "    neg_advrb = []\n",
      "    #stopwords = nltk.corpus.stopwords.words('english')\n",
      "    \n",
      "    for sent,label in reviews:\n",
      "        clean_sent = sent.translate(string.maketrans(\"\",\"\"), string.punctuation).lower().strip().split()\n",
      "        #clean_sent_no_sw = [w for w in clean_sent if w not in stopwords]     ##Removing stop words before tagging does not work.\n",
      "        tagged = nltk.pos_tag(clean_sent)\n",
      "        if label == 'neutral':\n",
      "            for i,j in tagged:\n",
      "                if j[0] == 'J':\n",
      "                    neutral_adj.append(i)\n",
      "                if j[0] == 'V':\n",
      "                    neutral_vrb.append(i)\n",
      "                #if j[0:2] == 'RB':\n",
      "                    #neutral_advrb.append(i)\n",
      "        if label == 'pos':\n",
      "            for i,j in tagged:\n",
      "                if j[0] == 'J':\n",
      "                    pos_adj.append(i)\n",
      "                if j[0] == 'V':\n",
      "                    pos_vrb.append(i)\n",
      "                #if j[0:2] == 'RB':\n",
      "                    #pos_advrb.append(i)\n",
      "        if label == 'neg':\n",
      "            for i,j in tagged:\n",
      "                if j[0] == 'J':\n",
      "                    neg_adj.append(i)\n",
      "                if j[0] == 'V':\n",
      "                    neg_vrb.append(i)\n",
      "                #if j[0:2] == 'RB':\n",
      "                    #neg_advrb.append(i)\n",
      "\n",
      "    return [neutral_adj, neutral_vrb, neutral_advrb, pos_adj, pos_vrb, pos_advrb, neg_adj, neg_vrb, neg_advrb]\n",
      "    \n",
      "seed_words = get_seed_list(training_reviews)"
     ],
     "language": "python",
     "metadata": {},
     "outputs": [],
     "prompt_number": 48
    },
    {
     "cell_type": "raw",
     "metadata": {},
     "source": [
      "Get definitions from tagger"
     ]
    },
    {
     "cell_type": "code",
     "collapsed": false,
     "input": [
      "#nltk.help.upenn_tagset()"
     ],
     "language": "python",
     "metadata": {},
     "outputs": [],
     "prompt_number": 47
    },
    {
     "cell_type": "raw",
     "metadata": {},
     "source": [
      "Set the seed lists"
     ]
    },
    {
     "cell_type": "code",
     "collapsed": false,
     "input": [
      "neutral_top_adj = nltk.FreqDist(seed_words[0]).keys()\n",
      "pos_top_adj = nltk.FreqDist(seed_words[3]).keys()\n",
      "neg_top_adj = nltk.FreqDist(seed_words[6]).keys()\n",
      "\n",
      "neutral_top_vrb = nltk.FreqDist(seed_words[1]).keys()\n",
      "pos_top_vrb = nltk.FreqDist(seed_words[4]).keys()\n",
      "neg_top_vrb = nltk.FreqDist(seed_words[7]).keys()\n",
      "\n",
      "#neutral_top_advrb = nltk.FreqDist(seed_words[2]).keys()\n",
      "#pos_top_advrb = nltk.FreqDist(seed_words[5]).keys()\n",
      "#neg_top_advrb = nltk.FreqDist(seed_words[8]).keys()\n",
      "\n",
      "#len(neutral_top_vrb)"
     ],
     "language": "python",
     "metadata": {},
     "outputs": [
      {
       "output_type": "pyout",
       "prompt_number": 49,
       "text": [
        "1132"
       ]
      }
     ],
     "prompt_number": 49
    },
    {
     "cell_type": "raw",
     "metadata": {},
     "source": [
      "Testing on adjectives"
     ]
    },
    {
     "cell_type": "code",
     "collapsed": false,
     "input": [
      "def features(sent):\n",
      "    sent = sent.translate(string.maketrans(\"\",\"\"), string.punctuation).lower().strip().split()\n",
      "    features = {}\n",
      "    for word in pos_top_adj:\n",
      "        features[\"has %s\" % word] = word in sent\n",
      "    #for word in neg_top_adj:\n",
      "        #features[\"has %s\" % word] = word in sent\n",
      "    for word in neutral_top_adj:\n",
      "        features[\"has %s\" % word] = word in sent\n",
      "    return features\n",
      "\n",
      "#train_set = [(features(s), r) for (s,r) in training_reviews]\n",
      "#devtest_set = [(features(s), r) for (s,r) in test_reviews]\n",
      "#classifier = nltk.NaiveBayesClassifier.train(train_set)\n",
      "#print nltk.classify.accuracy(classifier, devtest_set)\n",
      "\n",
      "#classifier.show_most_informative_features(5)"
     ],
     "language": "python",
     "metadata": {},
     "outputs": [
      {
       "output_type": "stream",
       "stream": "stdout",
       "text": [
        "0.560224089636\n"
       ]
      }
     ],
     "prompt_number": 44
    },
    {
     "cell_type": "raw",
     "metadata": {},
     "source": [
      "*Presence of a pos/neg/neu adj of any kind using top_adj sets:*\n",
      "only pos: .5630\n",
      "only neg: .5266\n",
      "only neu: .5434\n",
      "both pos and neg: .55182\n",
      "all three: .5686\n",
      "both neg and neu: .5378\n",
      "**both pos and neu: .5714**\n",
      "\n",
      "*Presence of pos/neg/neu adverb*\n",
      "Only pos: .5266\n",
      "Only neg: .5238\n",
      "**only neu: .5462**\n",
      "pos and neg: .5238\n",
      "pos and neu: .5434\n",
      "**neg and neu: .5462**\n",
      "all: .5434\n",
      "\n",
      "#Just using subset of pos/neg/neu adj:\n",
      "#First 100: top pos and neu: .56022"
     ]
    },
    {
     "cell_type": "raw",
     "metadata": {},
     "source": [
      "Initial error analysis using adjectives and adverbs reveals that many sents just don't have adjectives. \n",
      "Most common mistake on training data is guessin neutral when the sent is positive."
     ]
    },
    {
     "cell_type": "code",
     "collapsed": false,
     "input": [
      "# Error analysis\n",
      "errors = []\n",
      "for (sent, review) in test_reviews:\n",
      "    guess = classifier.classify(features(sent))\n",
      "    if guess != review:\n",
      "        errors.append( (review, guess, sent) )\n",
      "\n",
      "#for (review, guess, sent) in sorted(errors): \n",
      "    #print 'correct=%-8s guess=%-8s sent=%-30s' % (review, guess, sent)"
     ],
     "language": "python",
     "metadata": {},
     "outputs": [
      {
       "output_type": "stream",
       "stream": "stdout",
       "text": [
        "correct=neg      guess=neutral  sent= FEATURES: Really, there aren't any features, unless you call the games a feature.\n",
        "correct=neg      guess=neutral  sent= LOOKS AND DURABILITY: I realize many people are fond of the minimalist white interface.\n",
        "correct=neg      guess=neutral  sent= There technical service isn't helpful either; they just read what's on their website and charge you $50 (+ toll fees) to do it.\n",
        "correct=neg      guess=neutral  sent=- Not compatible with Audible.com books.\n",
        "correct=neg      guess=neutral  sent=- The outlook synch only works for non recurring appointments, which personally is very annoying to me but probably wont be to most people. - ##Several people complained about the touchpad and frankly i'm starting to see why.\n",
        "correct=neg      guess=neutral  sent=2) Phone is awfully slow.     \n",
        "correct=neg      guess=neutral  sent=3- It is SLOW , if you keep the original configuration and progs (why'd u buy it then ?!) it'll run smoothly , but still slower than most other coloured-screen Nokias .\n",
        "correct=neg      guess=neutral  sent=All the camera's functionality is only available (or selectable) when the screen is functional.\n",
        "correct=neg      guess=neutral  sent=Also, the fit and finish could be better although this doesn't detract from performance.\n",
        "correct=neg      guess=neutral  sent=Basically the 6600 is a bundle of over-hyped features you don't and won't need (if you do get yourself a PDA or pocket PC) , none of them work as they should , and the basic phone functions and ergonomics are less than average .\n",
        "correct=neg      guess=neutral  sent=But if I installed either one of these Norton products, neither works after installation?\n",
        "correct=neg      guess=neutral  sent=Buy this if you like mental challenges or trying how to pick locks.\n",
        "correct=neg      guess=neutral  sent=Hard drive screws up occasionally\n",
        "correct=neg      guess=neutral  sent=I could hardly use it without a recharge in 2 days!\n",
        "correct=neg      guess=neutral  sent=I had much of the same problems that everyone else has listed (mainly the SLOOOOOOOOOW processor), and then I couldn't get the damn thing off my computer completely!\n",
        "correct=neg      guess=neutral  sent=I occassionally flip songs while working out as i accidently hit the pad even lightly (yes i have it in maximum desensitized mode).\n",
        "correct=neg      guess=neutral  sent=I read many reviews on Norton I.S. 2004 from a variety of sources (Cnet, Amazon, message boards) and came to the conclusion that NIS 04 was a terrible product and not worth the update.\n",
        "correct=neg      guess=neutral  sent=I say adequate because it was enough to get wireless working, but nowhere near enough instruction to do the proper configuration job that I could have done if so!\n",
        "correct=neg      guess=neutral  sent=I then realized a major design flaw.\n",
        "correct=neg      guess=neutral  sent=I've alway liked Symantec products, except for this version 2004.\n",
        "correct=neg      guess=neutral  sent=I've often struggled to get something to work the way I want it, and hate to have to carry the manual with me all the time!\n",
        "correct=neg      guess=neutral  sent=If you've been listening to cd's in your car for awhile, dealing with the drop-off in sound quality may take some getting used to.\n",
        "correct=neg      guess=neutral  sent=It is buggy, slow and basically frustrates the heck out of the user.\n",
        "correct=neg      guess=neutral  sent=It takes a while to learn how to use it right, and at this point I am able to make about 70% of my calls using it.\n",
        "correct=neg      guess=neutral  sent=Just don't get drawn into T-Mobile's catchy rebate.\n",
        "correct=neg      guess=neutral  sent=My daughter is only 4 months old and we do notice an odor.\n",
        "correct=neg      guess=neutral  sent=My fingers are kind of stubby so it took a while to learn how to hit a key without hitting the adjacent ones.\n",
        "correct=neg      guess=neutral  sent=My first router is a safety hazard if you do not pay attention and are not very careful.\n",
        "correct=neg      guess=neutral  sent=Norton online support does not even acknowledge this problem nor does the computer company that preloaded it on our new computer.\n",
        "correct=neg      guess=neutral  sent=Only downside is when taking pictures in low-light conditions without the flash.\n",
        "correct=neg      guess=neutral  sent=Some adjustments in the settings could help make it better.\n",
        "correct=neg      guess=neutral  sent=Stay away from this product!  \n",
        "correct=neg      guess=neutral  sent=Symantec should give us all a refund and apology!\n",
        "correct=neg      guess=neutral  sent=The Creative MediaSource software that comes with the Zen Micro is cluttered, and excludes my favorite feature in iTunes, the ability to automatically copy everything you import into a certain folder.\n",
        "correct=neg      guess=neutral  sent=The biggest problem is the installation.\n",
        "correct=neg      guess=neutral  sent=There are 2 things that need fixing  First is the battery life. It will run for 6 hrs without problems with medium usage of the buttons.\n",
        "correct=neg      guess=neutral  sent=They said they would refund all the money, but a month later, they tell me now the back-up disc is not refundable as its cost is purely handling and shipping - $15 to \"handle\" and ship a CD? --and they have been indignant and combative on the phone and in emails.\n",
        "correct=neg      guess=neutral  sent=When taking pictures of people, however, it shows EVERY flaw in the subject's skin.\n",
        "correct=neg      guess=neutral  sent=With the PlungeLIFT all my bit changing has been done above the table, although I still have to reach below the table to operate the spindle lock (and, of course, the speed and ON/OFF controls).\n",
        "correct=neg      guess=neutral  sent=after scouring the various boards i find this is an arbitrary and pervasive problem.\n",
        "correct=neg      guess=neutral  sent=who in the hell needs a frigging *VGA* camera on their CELLPHONE???\n",
        "correct=neg      guess=neutral  sent=you can't do that with a Sony T610 (which i traded for a 6600).\n",
        "correct=neg      guess=pos      sent=(I never know when the Champ is full as there is no way too tell.  Even though not particularly aesthetic, how about making the Champ clear and see-through?) So, I lift the lid and find a wad of diaper, which I must remove, usually stuck inside the lid itself because the bag is too full.\n",
        "correct=neg      guess=pos      sent=1) It is perhaps too small.   \n",
        "correct=neg      guess=pos      sent=But not good enough for me.   \n",
        "correct=neg      guess=pos      sent=It's oftentimes hard to get a good grip on the router, activate the chuck lock, and get enough muscle behind the wrench to get the collet loosened up.\n",
        "correct=neg      guess=pos      sent=No inbox accessories-- An arm strap, belt strap, case, or anything would be nice, but nope... Moveable parts-- This makes me almost want to keep my 3rd gen over a 4th; with moveable parts, its easy to damage an iPod at a gym, so this is for more casual listeners; note the iPod Mini doesn't have moveable parts and is made of titanium.\n",
        "correct=neg      guess=pos      sent=Not so nice things: - a bit too much weight and power for easy handheld use - spindle lock makes for awkward bit changing (outside of a table) - the 1/4\" chuck sleeve requires MUCH tightening to keep bits from slipping\n",
        "correct=neg      guess=pos      sent=Speaker volume is loud and clear but it sacrifaces the battery life.\n",
        "correct=neg      guess=pos      sent=Such a small zoom length that you would think that the zoom would be silent since it hardly zooms in...wrong!\n",
        "correct=neg      guess=pos      sent=The box proudly displays \"SecureEasySetup (TM)\" \"Wireless Made Simple\" \"One Touch Setup Button\" \"Easy Start\" \"Easy Security\" \"Easy Everyday\"   Apparently Linksys/Cisco knows that ease of setup is crucial.\n",
        "correct=neg      guess=pos      sent=The number buttons are crammed into a 3x4cm area, the fonts are small, the interface is too convoluted and frustrating, it's not that customisable as well.\n",
        "correct=neg      guess=pos      sent=There were many times when I clicked the automatic shutter and nothing happens.\n",
        "correct=neg      guess=pos      sent=This simple nuance was too much for Nokia, and they still refuse to acknoledge the fact that their technician could have broken the phone or repair the phone for free.\n",
        "correct=neg      guess=pos      sent=Warning! The Windows \"remove program\" feature does not do a good job of this, and neither does Norton's own removal program.\n",
        "correct=neutral  guess=neg      sent=I'm using sveasoft's firmware, but search the web for more information about it--you may find you don't approve of the author's tactics, which I only learned about after I'd paid my $20 subscription.\n",
        "correct=neutral  guess=neg      sent=It's no wonder many new PCs ship with full hard drive images on DVDs, so you can restore your system back to as-shipped condition.\n",
        "correct=neutral  guess=neg      sent=It's very frustrating to try to complete school work or work, only to lose it because I am dropped every couple of minutes.\n",
        "correct=neutral  guess=neg      sent=When most of us purchase these little devises, we do so because of their diminuitive size and extraordinary storage capacities.\n",
        "correct=neutral  guess=neg      sent=but, that's the only SE t-mobile offers right now.\n",
        "correct=neutral  guess=pos      sent=  PC users have a lot of choices, but based on what I've heard and read, the iPod really is the best all-around, athough being a Mac product, it has the usual streamlined and comparatively less customizable software.\n",
        "correct=neutral  guess=pos      sent=  These are nice ones, and you get great sound at first, but again, they break if you even think mean things about them.\n",
        "correct=neutral  guess=pos      sent= I mean, it would be nice if one day, iTunes can actually offer their customers a monthly service that allows iPod owners to load their iPods up with unlimited music with one set fee, as an option to the pay-99cents-a-track path.\n",
        "correct=neutral  guess=pos      sent=Anyhow, adding music to the player is easy.\n",
        "correct=neutral  guess=pos      sent=Get the Ultra SD card which allows very quick turnaround on shots.\n",
        "correct=neutral  guess=pos      sent=Given that, I find the iPod solution reasonable: keep the case sealed and let the battery be changed by a technician once every 2-3 years.\n",
        "correct=neutral  guess=pos      sent=Have to clean, buff & lube the plunge rods once in a while but I see that as a non issue because any router should be periodically cleaned anyway.\n",
        "correct=neutral  guess=pos      sent=I also am loving T-Mobile (100 times better than ATT...\n",
        "correct=neutral  guess=pos      sent=If you max out the phone memory and have sent all you wish to a computer, there is a memory card w/ a good deal of storage as well.\n",
        "correct=neutral  guess=pos      sent=It has saved my system on more than one occasion, and makes disc clean up a snap.\n",
        "correct=neutral  guess=pos      sent=One of the other reviewers said get the neoprene case from marware, which is great advice.\n",
        "correct=neutral  guess=pos      sent=Setting up the 2nd computer really was easy too -- basically hooking the computer to the router and!\n",
        "correct=neutral  guess=pos      sent=So far it has worked out great\t I\n",
        "correct=neutral  guess=pos      sent=The Hitachi is a great router for a great price, but only get it if you need the maximum power, variable speed and use it in a table.\n",
        "correct=neutral  guess=pos      sent=This is great for putting photos and memos on the computer and transferring calander data to my phone.\n",
        "correct=neutral  guess=pos      sent=This is no small deal.        \n",
        "correct=neutral  guess=pos      sent=Very Pleased.                 \n",
        "correct=neutral  guess=pos      sent=Very easy for visitors to be invisible on all home-marketed boxes.\n",
        "correct=neutral  guess=pos      sent=What I have found useful to consider before purchasing a phone:  - decent battery life - good call quality - user-friendly interface - camera/video functions - bluetooth - ability to sync contacts stored in the PC with the phone (no more manual entries!)\n",
        "correct=neutral  guess=pos      sent=You have to be in an area with good reception, but where I live I can get most of my favorite stations quite well.\n",
        "correct=pos      guess=neg      sent=i have a hard time using other phones with smaller screens!!!\n",
        "correct=pos      guess=neutral  sent= I have about 6 gb used on my iPod so far (well over 1000 songs), and as far as I can tell, all of them play at near-cd quality.\n",
        "correct=pos      guess=neutral  sent=*holds the odor in nicely!    \n",
        "correct=pos      guess=neutral  sent=- Looks sleek, compact, has a radio.\n",
        "correct=pos      guess=neutral  sent=3. The Nokia 6600 has a brilliant Java interface.\n",
        "correct=pos      guess=neutral  sent=5.  The price is right.       \n",
        "correct=pos      guess=neutral  sent=8. Connected the phone to my tablet pc and now can access company VPN at 56k speed via bluetooth.\n",
        "correct=pos      guess=neutral  sent=A call to customer support (got to a live person within a couple of minutes) helped me tweak a couple of the settings to streamline performance.\n",
        "correct=pos      guess=neutral  sent=Absolutely no problems with this router.\n",
        "correct=pos      guess=neutral  sent=All you have to do is click one button on the router configuration window and the router automatically senses the devices and configures the network.\n",
        "correct=pos      guess=neutral  sent=And it is EXTREMELY well-priced for what you're getting.\n",
        "correct=pos      guess=neutral  sent=Another 5 star performance.   \n",
        "correct=pos      guess=neutral  sent=As far as dealing with network access of other computers this router is pretty good given the price- remember this router is the same one that was released right when the G standard was introduced to the market.\n",
        "correct=pos      guess=neutral  sent=As it turns out, this is an awesome camera!\n",
        "correct=pos      guess=neutral  sent=Aside from a 6MB++ built-in phone memory, there's a 32MB MMC card that goes with it!\n",
        "correct=pos      guess=neutral  sent=Diaper Champ is by far the best diaper pail!\n",
        "correct=pos      guess=neutral  sent=Don't care about sunlight: it's TFT.\n",
        "correct=pos      guess=neutral  sent=Fits comfortably in my inside jacket pocket or in my pants pocket.\n",
        "correct=pos      guess=neutral  sent=For the money, I'm not sure you can do better.\n",
        "correct=pos      guess=neutral  sent=For the price, I am considering purchasing a spare just to have as a backup.\n",
        "correct=pos      guess=neutral  sent=Frankly, I think this is one of the niftiest pieces of hardware I've ever used.\n",
        "correct=pos      guess=neutral  sent=Having the Digic II chip helps a lot.\n",
        "correct=pos      guess=neutral  sent=Hitachi's M12V is a big beast of a router.\n",
        "correct=pos      guess=neutral  sent=However, setting up using the quick start instructions was a breeze.\n",
        "correct=pos      guess=neutral  sent=I bought this diaper pail when my son was just a few days old and I absolutely LOVE it!\n",
        "correct=pos      guess=neutral  sent=I can't smell anything (and believe me, this is quite something with my baby).\n",
        "correct=pos      guess=neutral  sent=I do give create to Creative for their attractive design.\n",
        "correct=pos      guess=neutral  sent=I don't have problems with the depth adjustment, the speed control, the collet ( I haven't tried the 1/4\" sleeve yet) .\n",
        "correct=pos      guess=neutral  sent=I ended up buying one for upstairs and one for downstairs because it works so well and because I change him so often downstairs.\n",
        "correct=pos      guess=neutral  sent=I got it working fast enough. \n",
        "correct=pos      guess=neutral  sent=I have come across many other beginner cameras that I prefer over this camera, but the thing you have to keep in mind about this camera is the size.\n",
        "correct=pos      guess=neutral  sent=I have less money invested in the router table and dual routers than I would have if I had purchased a single cheap reliant shaper.\n",
        "correct=pos      guess=neutral  sent=I have not yet used all the features, like the calendar, etc, but as a music player this little thing rocks.\n",
        "correct=pos      guess=neutral  sent=I love that you don't have to purchase expensive refills.\n",
        "correct=pos      guess=neutral  sent=I love this pail!             \n",
        "correct=pos      guess=neutral  sent=I use the router with a 3 1/2in raised panel bit with no problems.\n",
        "correct=pos      guess=neutral  sent=I want to start off saying that this camera is small for a reason.\n",
        "correct=pos      guess=neutral  sent=I'm not sure why all the bad reviews, my computer isn't especially slowed down and I have Win'98.\n",
        "correct=pos      guess=neutral  sent=I've printed several photos and the prints look as good as the screen views.\n",
        "correct=pos      guess=neutral  sent=I've taken about hundred shot with the Canon, in varying lighting situations, all in auto mode, and not one blurry picture!!!\n",
        "correct=pos      guess=neutral  sent=If you are looking for an upgrade, this is definitely the phone for you.\n",
        "correct=pos      guess=neutral  sent=It doesn't bog down under load.\n",
        "correct=pos      guess=neutral  sent=It feels solid and not flimsy like the carbon.\n",
        "correct=pos      guess=neutral  sent=It fits in your pocket.       \n",
        "correct=pos      guess=neutral  sent=It is slow to initially start up, but once it's turned on, I've never had any complaints about the speed.\n",
        "correct=pos      guess=neutral  sent=It sits in the corner of our bathroom and we have never had any problems with odors at all (and we live in the damp and humid South, where odors of all kinds are generally rife).\n",
        "correct=pos      guess=neutral  sent=It works better and has more useful features than NIS 2003.\n",
        "correct=pos      guess=neutral  sent=It works well with my VOIP adapter, which is also a Linksys.\n",
        "correct=pos      guess=neutral  sent=It's being used daily and I have had none of the problems reported by other reviewers (headphone jack, player locking up, etc).\n",
        "correct=pos      guess=neutral  sent=It's faster than WMP.         \n",
        "correct=pos      guess=neutral  sent=It's the same body as the popular ELP2 APS camera (take a look at a standard credit card from your wallet and you'll have an idea of the front profile!).\n",
        "correct=pos      guess=neutral  sent=MEMORY/STORAGE - Seemingly boundless.\n",
        "correct=pos      guess=neutral  sent=On the T-Mobile service I was able to take pics as we drove across I-70 and email them to family & friends once we reached a T-Mobile tzone (usually a major city).\n",
        "correct=pos      guess=neutral  sent=Smooth plunging! ( it did stick a bit so I sprayed it w/ lubricant.\n",
        "correct=pos      guess=neutral  sent=So reliability is the winner here for the iPod.\n",
        "correct=pos      guess=neutral  sent=The Champ did not start letting a little odor through until well over a year.\n",
        "correct=pos      guess=neutral  sent=The Micro seeemed like an iPod for less.\n",
        "correct=pos      guess=neutral  sent=The Phone offers a 32 Mb MMC card and I think that is certainly the most exciting feature.\n",
        "correct=pos      guess=neutral  sent=The controls and the menus are clearly displayed and easily fathomed\n",
        "correct=pos      guess=neutral  sent=The guide fence for freehand routing is well made and solid.\n",
        "correct=pos      guess=neutral  sent=The photo quality is amazing. \n",
        "correct=pos      guess=neutral  sent=The player looks SO much better when you're actually holding it.\n",
        "correct=pos      guess=neutral  sent=The power, low noise operation, and speed control makes up for the problems I have experienced.\n",
        "correct=pos      guess=neutral  sent=The program is fully featured, with much of what you'd want from a security program --\n",
        "correct=pos      guess=neutral  sent=The total price with delivery (free shipping ) was $135 !\n",
        "correct=pos      guess=neutral  sent=The voice recorders good, but you can't record songs off the radio for ring tones.\n",
        "correct=pos      guess=neutral  sent=This phone has the best battery, it lasts longer then my old 3210\n",
        "correct=pos      guess=neutral  sent=Versatile and stylish.        \n",
        "correct=pos      guess=neutral  sent=We just use the Glad tall kitchen trash can bags with odor shield from Target and they work wonderfully.\n",
        "correct=pos      guess=neutral  sent=What impressed me most was the sound.\n",
        "correct=pos      guess=neutral  sent=While I have not had the \"privilege\", as many call it, of owning an Ipod, based on the experience of friends who have had some misfortune with their Ipod (and subsequently purchased the Zen Touch or Zen Micro), I can pretty much rest assured that my decision to purchase the Zen Micro was one of the more informed ones.\n",
        "correct=pos      guess=neutral  sent=You need to know absolutely nothing about setting up the network.\n",
        "correct=pos      guess=neutral  sent=i connected my camera to the tv and played some video clips and for a digital camera to take such good quality clips, i give it 5/5 stars =) oh and btw, while you take video clips, you can zoom it too! (digital zoom only though)...but still...(my old one can't do that...you have to zoom it first if you want then take the video clip.)\n",
        "correct=pos      guess=neutral  sent=if you are looking for a phone to integrate as easily as the sonyericsson phones with iSync, i say stick with a sonyericsson.\n",
        "correct=pos      guess=neutral  sent=look at the size of it!       \n",
        "correct=pos      guess=neutral  sent=start up is so quick \u2013        \n",
        "correct=pos      guess=neutral  sent=you can record your voice and turn it into a ringtone.\n"
       ]
      }
     ],
     "prompt_number": 46
    },
    {
     "cell_type": "code",
     "collapsed": false,
     "input": [
      "#Testing on verbs\n",
      "\n",
      "def features(sent):\n",
      "    sent = sent.translate(string.maketrans(\"\",\"\"), string.punctuation).lower().strip().split()\n",
      "    features = {}\n",
      "    for word in pos_top_vrb:\n",
      "        features[\"has %s\" % word] = word in sent\n",
      "    for word in neg_top_vrb:\n",
      "        features[\"has %s\" % word] = word in sent\n",
      "    for word in neutral_top_vrb:\n",
      "        features[\"has %s\" % word] = word in sent\n",
      "    for word in pos_top_adj:\n",
      "        features[\"has %s\" % word] = word in sent\n",
      "    for word in neutral_top_adj:\n",
      "        features[\"has %s\" % word] = word in sent\n",
      "    for word in neg_top_adj:\n",
      "        features[\"has %s\" % word] = word in sent\n",
      "    return features\n",
      "\n",
      "#train_set = [(features(s), r) for (s,r) in training_reviews]\n",
      "#devtest_set = [(features(s), r) for (s,r) in test_reviews]\n",
      "#classifier = nltk.NaiveBayesClassifier.train(train_set)\n",
      "#print nltk.classify.accuracy(classifier, devtest_set)"
     ],
     "language": "python",
     "metadata": {},
     "outputs": [
      {
       "output_type": "stream",
       "stream": "stdout",
       "text": [
        "0.59943977591\n"
       ]
      }
     ],
     "prompt_number": 60
    },
    {
     "cell_type": "raw",
     "metadata": {},
     "source": [
      "*Presence of a pos/neg/neu verbs:*\n",
      "only pos: .5546\n",
      "only neg: .5882\n",
      "only neu: .5910\n",
      "both pos and neg: .5742\n",
      "**both pos and neu: .5966**\n",
      "both neg and neu: .5826\n",
      "all: .5882\n",
      "\n",
      "using both top features??\n",
      "both pos/neu verbs and pos/neu adj: .5938\n",
      "**both pos and neu verbs and all adj: .5999**\n",
      "all verbs and all adjectives: .5994"
     ]
    },
    {
     "cell_type": "raw",
     "metadata": {},
     "source": [
      "I played around with the counts of adjectives and verbs. Did not produce better results."
     ]
    },
    {
     "cell_type": "code",
     "collapsed": false,
     "input": [
      "#Testing based on count of verbs\n",
      "\n",
      "\"\"\"\n",
      "def features(sent):\n",
      "    sent = sent.translate(string.maketrans(\"\",\"\"), string.punctuation).lower().strip().split()\n",
      "    features = {}\n",
      "    features[\"pos adj count\"] = 0\n",
      "    features[\"neg adj count\"] = 0\n",
      "    features[\"neu adj count\"] = 0\n",
      "    features[\"pos vrb count\"] = 0\n",
      "    features[\"neg vrb count\"] = 0\n",
      "    features[\"neu vrb count\"] = 0    \n",
      "    for word in pos_top_adj:\n",
      "        features[\"pos adj count\"] += sent.count(word)\n",
      "    for word in neg_top_adj:\n",
      "        features[\"neg adj count\"] += sent.count(word)        \n",
      "    for word in neutral_top_adj:\n",
      "        features[\"neu adj count\"] += sent.count(word)\n",
      "    for word in pos_top_vrb:\n",
      "        features[\"pos vrb count\"] += sent.count(word)\n",
      "    #for word in neg_top_vrb:\n",
      "        #features[\"neg vrb count\"] += sent.count(word)        \n",
      "    for word in neutral_top_vrb:\n",
      "        features[\"neu vrb count\"] += sent.count(word)\n",
      "        \n",
      "    \n",
      "    return features\n",
      "\n",
      "\n",
      "train_set = [(features(s), r) for (s,r) in training_reviews]\n",
      "devtest_set = [(features(s), r) for (s,r) in test_reviews]\n",
      "#classifier = nltk.NaiveBayesClassifier.train(train_set)\n",
      "#print nltk.classify.accuracy(classifier, devtest_set)\n",
      "\n",
      "\"\"\""
     ],
     "language": "python",
     "metadata": {},
     "outputs": [
      {
       "output_type": "stream",
       "stream": "stdout",
       "text": [
        "[({'neg vrb count': 0, 'neg adj count': 1, 'pos vrb count': 4, 'pos adj count': 1, 'neu vrb count': 7, 'neu adj count': 2}, 'neutral'), ({'neg vrb count': 0, 'neg adj count': 1, 'pos vrb count': 8, 'pos adj count': 2, 'neu vrb count': 10, 'neu adj count': 2}, 'neg'), ({'neg vrb count': 0, 'neg adj count': 0, 'pos vrb count': 1, 'pos adj count': 0, 'neu vrb count': 4, 'neu adj count': 1}, 'neutral'), ({'neg vrb count': 0, 'neg adj count': 5, 'pos vrb count': 9, 'pos adj count': 9, 'neu vrb count': 7, 'neu adj count': 7}, 'pos'), ({'neg vrb count': 0, 'neg adj count': 0, 'pos vrb count': 2, 'pos adj count': 1, 'neu vrb count': 2, 'neu adj count': 1}, 'pos'), ({'neg vrb count': 0, 'neg adj count': 0, 'pos vrb count': 5, 'pos adj count': 1, 'neu vrb count': 3, 'neu adj count': 0}, 'pos'), ({'neg vrb count': 0, 'neg adj count': 0, 'pos vrb count': 2, 'pos adj count': 1, 'neu vrb count': 2, 'neu adj count': 1}, 'pos'), ({'neg vrb count': 0, 'neg adj count': 2, 'pos vrb count': 1, 'pos adj count': 4, 'neu vrb count': 0, 'neu adj count': 2}, 'pos'), ({'neg vrb count': 0, 'neg adj count': 2, 'pos vrb count': 5, 'pos adj count': 3, 'neu vrb count': 6, 'neu adj count': 4}, 'neutral'), ({'neg vrb count': 0, 'neg adj count': 1, 'pos vrb count': 2, 'pos adj count': 1, 'neu vrb count': 3, 'neu adj count': 1}, 'neutral')]\n"
       ]
      }
     ],
     "prompt_number": 233
    },
    {
     "cell_type": "raw",
     "metadata": {},
     "source": [
      "Trying a stemmer for verbs and adjectives"
     ]
    },
    {
     "cell_type": "code",
     "collapsed": false,
     "input": [
      "def get_seed_list_stemming(reviews):\n",
      "    porter = nltk.PorterStemmer()\n",
      "    neutral_adj = []\n",
      "    pos_adj = []\n",
      "    neg_adj = []\n",
      "    neutral_vrb = []\n",
      "    pos_vrb = []\n",
      "    neg_vrb = []\n",
      "    #stopwords = nltk.corpus.stopwords.words('english')\n",
      "    \n",
      "    for sent,label in reviews:\n",
      "        clean_sent = sent.translate(string.maketrans(\"\",\"\"), string.punctuation).lower().strip().split()\n",
      "        #clean_sent_no_sw = [w for w in clean_sent if w not in stopwords]     ##Removing stop words before tagging does not work.\n",
      "        tagged = nltk.pos_tag(clean_sent)\n",
      "        if label == 'neutral':\n",
      "            for i,j in tagged:\n",
      "                if j[0] == 'J':\n",
      "                    neutral_adj.append(porter.stem(i))\n",
      "                if j[0] == 'V':\n",
      "                    neutral_vrb.append(porter.stem(i))\n",
      "        if label == 'pos':\n",
      "            for i,j in tagged:\n",
      "                if j[0] == 'J':\n",
      "                    pos_adj.append(porter.stem(i))\n",
      "                if j[0] == 'V':\n",
      "                    pos_vrb.append(porter.stem(i))\n",
      "        if label == 'neg':\n",
      "            for i,j in tagged:\n",
      "                if j[0] == 'J':\n",
      "                    neg_adj.append(porter.stem(i))\n",
      "                if j[0] == 'V':\n",
      "                    neg_vrb.append(porter.stem(i))\n",
      "\n",
      "    return [neutral_adj, neutral_vrb, pos_adj, pos_vrb, neg_adj, neg_vrb]\n",
      "    \n",
      "seed_words = get_seed_list_stemming(training_reviews)"
     ],
     "language": "python",
     "metadata": {},
     "outputs": [],
     "prompt_number": 69
    },
    {
     "cell_type": "code",
     "collapsed": false,
     "input": [
      "neutral_top_adj_s = nltk.FreqDist(seed_words[0]).keys()\n",
      "pos_top_adj_s = nltk.FreqDist(seed_words[2]).keys()\n",
      "neg_top_adj_s = nltk.FreqDist(seed_words[4]).keys()\n",
      "\n",
      "neutral_top_vrb_s = nltk.FreqDist(seed_words[1]).keys()\n",
      "pos_top_vrb_s = nltk.FreqDist(seed_words[3]).keys()\n",
      "neg_top_vrb_s = nltk.FreqDist(seed_words[5]).keys()"
     ],
     "language": "python",
     "metadata": {},
     "outputs": [],
     "prompt_number": 70
    },
    {
     "cell_type": "code",
     "collapsed": false,
     "input": [
      "#Testing with stemming verbs\n",
      "\n",
      "def features(sent):\n",
      "    porter = nltk.PorterStemmer()\n",
      "    sent = sent.translate(string.maketrans(\"\",\"\"), string.punctuation).lower().strip().split()\n",
      "    sent_stem = [porter.stem(t) for t in sent]\n",
      "    features = {}\n",
      "    for word in pos_top_vrb_s:\n",
      "        features[\"has %s\" % word] = word in sent_stem\n",
      "    #for word in neg_top_vrb_s:\n",
      "        #features[\"has %s\" % word] = word in sent_setm\n",
      "    for word in neutral_top_vrb_s:\n",
      "        features[\"has %s\" % word] = word in sent_stem\n",
      "    for word in pos_top_adj_s:\n",
      "        features[\"has %s\" % word] = word in sent_stem\n",
      "    for word in neutral_top_adj_s:\n",
      "        features[\"has %s\" % word] = word in sent_stem\n",
      "    #for word in neg_top_adj:\n",
      "        #features[\"has %s\" % word] = word in sent_stem\n",
      "    return features\n",
      "\n",
      "#train_set = [(features(s), r) for (s,r) in training_reviews]\n",
      "#devtest_set = [(features(s), r) for (s,r) in test_reviews]\n",
      "#classifier = nltk.NaiveBayesClassifier.train(train_set)\n",
      "#print nltk.classify.accuracy(classifier, devtest_set)"
     ],
     "language": "python",
     "metadata": {},
     "outputs": [],
     "prompt_number": 81
    },
    {
     "cell_type": "raw",
     "metadata": {},
     "source": [
      "*Presence of a pos/neg/neu verbs and adjectives after stemming using Porter Stemmer*\n",
      "both pos and neu verbs: .5994\n",
      "**both pos and neu verbs and pos/neu adj: .6218**\n",
      "\n",
      "going to use these features to test on the held out set."
     ]
    },
    {
     "cell_type": "raw",
     "metadata": {},
     "source": [
      "Run on held out set"
     ]
    },
    {
     "cell_type": "code",
     "collapsed": false,
     "input": [
      "files = os.listdir(\"../Vanessa/Heldout\")\n",
      "all_files = [f for f in files if f[-2:] == '.p']\n",
      "all_reviews_heldout = []\n",
      "\n",
      "for f in all_files:\n",
      "    parsed_reviews = pickle.load( open( \"../Vanessa/Heldout/\" + f, \"rb\" ) )\n",
      "    for i in parsed_reviews.items():\n",
      "        all_reviews_heldout.append(i)\n",
      "\n",
      "random.shuffle(all_reviews_heldout)\n",
      "\n",
      "train_set = [(features(s), r) for (s,r) in all_reviews]\n",
      "test_set = [(features(s), r) for (s,r) in all_reviews_heldout]\n",
      "classifier = nltk.NaiveBayesClassifier.train(train_set)\n",
      "print nltk.classify.accuracy(classifier, test_set)"
     ],
     "language": "python",
     "metadata": {},
     "outputs": [
      {
       "output_type": "stream",
       "stream": "stdout",
       "text": [
        "0.643864598025\n"
       ]
      }
     ],
     "prompt_number": 82
    },
    {
     "cell_type": "raw",
     "metadata": {},
     "source": [
      "Classifier accuracy on hold out set: .6439"
     ]
    }
   ],
   "metadata": {}
  }
 ]
}