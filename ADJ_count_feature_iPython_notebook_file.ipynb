{
 "metadata": {
  "name": "NLP_tagger"
 },
 "nbformat": 3,
 "nbformat_minor": 0,
 "worksheets": [
  {
   "cells": [
    {
     "cell_type": "code",
     "collapsed": false,
     "input": "import os\nimport nltk\nimport pickle\nfrom __future__ import division\nfrom nltk.corpus import stopwords\nimport re\nimport random\nimport math",
     "language": "python",
     "metadata": {},
     "outputs": [],
     "prompt_number": 101
    },
    {
     "cell_type": "code",
     "collapsed": false,
     "input": "os.chdir(\"/Users/Morgan/Dropbox/School/NLP/classification_project/NLP_classification_project\")",
     "language": "python",
     "metadata": {},
     "outputs": [],
     "prompt_number": 18
    },
    {
     "cell_type": "code",
     "collapsed": false,
     "input": "#Combine all the reviews into one dictionary\nparsed_reviews={}\n# print os.listdir(os.getcwd())\nfor File in os.listdir(os.getcwd()):\n    if File[-2:]==\".p\": #just get pickled files\n        parsed_reviews= dict(pickle.load(open(File, \"rb\")).items() + parsed_reviews.items())",
     "language": "python",
     "metadata": {},
     "outputs": [],
     "prompt_number": 102
    },
    {
     "cell_type": "code",
     "collapsed": false,
     "input": "print \"# of reviews: \"+str(len(parsed_reviews.items()))\nprint 'here is an example (the first item in the dictionary of \"parsed_reviews\":'\nprint parsed_reviews.items()[:5]",
     "language": "python",
     "metadata": {},
     "outputs": [
      {
       "output_type": "stream",
       "stream": "stdout",
       "text": "# of reviews: 3571\n[('Norton Internet Security 2004 is one of the more buggy implementations.', 'neg'), ('There are 2 things that need fixing  First is the battery life. It will run for 6 hrs without problems with medium usage of the buttons.', 'neg'), ('WRONG!', 'neutral'), ('Firstly, I mounted the 7dbi antenna pair, replacing the original ones.', 'neutral'), ('', 'neutral')]\n"
      }
     ],
     "prompt_number": 110
    },
    {
     "cell_type": "code",
     "collapsed": false,
     "input": "#puts the tags with the words\n# for sent in parsed_reviews.keys():\n#     tag=parsed_reviews[sent]\n#     tagged_words = [(word,tag) for word in nltk.word_tokenize(sent)]\n# print tagged_words[0:4]",
     "language": "python",
     "metadata": {},
     "outputs": [
      {
       "output_type": "stream",
       "stream": "stdout",
       "text": "[('So', 'neutral'), ('I', 'neutral'), ('ran', 'neutral'), ('the', 'neutral')]\n"
      }
     ],
     "prompt_number": 94
    },
    {
     "cell_type": "code",
     "collapsed": false,
     "input": "def number_of_adjectives(sent):\n    #Process the sentence here, e.g. tagging the words of sentence\n    text = nltk.word_tokenize(sent)\n    tags = nltk.pos_tag(text)\n#     print tags\n    #counts the adjectives in the sentence\n    num_adj = len([tag for (word,tag) in tags if tag ==\"JJ\"])\n#     print num_adj\n    #Add the feature here, e.g. adding # of adjectives\n    features[\"count adjectives\"] = num_adj\n    return features",
     "language": "python",
     "metadata": {},
     "outputs": [],
     "prompt_number": 97
    },
    {
     "cell_type": "code",
     "collapsed": false,
     "input": "number_of_adjectives(parsed_reviews.keys()[0])",
     "language": "python",
     "metadata": {},
     "outputs": [
      {
       "metadata": {},
       "output_type": "pyout",
       "prompt_number": 99,
       "text": "{'count adjectives': 1}"
      }
     ],
     "prompt_number": 99
    },
    {
     "cell_type": "code",
     "collapsed": false,
     "input": "featuresets = [(number_of_adjectives(sent), tag) for (sent,tag) in parsed_reviews.items()]\n# for sent,tag in parsed_reviews:\n    \n\n",
     "language": "python",
     "metadata": {},
     "outputs": [],
     "prompt_number": 105
    },
    {
     "cell_type": "code",
     "collapsed": false,
     "input": "train_set, test_set = featuresets[500:], featuresets[:500]\nclassifier = nltk.NaiveBayesClassifier.train(train_set)\nprint nltk.classify.accuracy(classifier, test_set)",
     "language": "python",
     "metadata": {},
     "outputs": [
      {
       "output_type": "stream",
       "stream": "stdout",
       "text": "0.512\n"
      }
     ],
     "prompt_number": 108
    },
    {
     "cell_type": "code",
     "collapsed": false,
     "input": "print classifier.show_most_informative_features(5)",
     "language": "python",
     "metadata": {},
     "outputs": [
      {
       "output_type": "stream",
       "stream": "stdout",
       "text": "Most Informative Features\n        count adjectives = 1              neutra : neg    =      1.0 : 1.0\n"
      }
     ],
     "prompt_number": 109
    },
    {
     "cell_type": "code",
     "collapsed": false,
     "input": "",
     "language": "python",
     "metadata": {},
     "outputs": []
    }
   ],
   "metadata": {}
  }
 ]
}